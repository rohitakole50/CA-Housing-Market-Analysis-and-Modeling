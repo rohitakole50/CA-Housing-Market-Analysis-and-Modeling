{
 "nbformat": 4,
 "nbformat_minor": 0,
 "metadata": {
  "colab": {
   "provenance": [],
   "toc_visible": true
  },
  "kernelspec": {
   "name": "python3",
   "display_name": "Python 3"
  },
  "language_info": {
   "name": "python"
  }
 },
 "cells": [
  {
   "cell_type": "markdown",
   "source": "# Sampling and Model Interpretability",
   "metadata": {
    "id": "mlOEzxLwuORm"
   }
  },
  {
   "cell_type": "code",
   "source": [
    "!pip install pulp # for partial dependence plots!\n",
    "!pip install pycebox"
   ],
   "metadata": {
    "colab": {
     "base_uri": "https://localhost:8080/"
    },
    "id": "yJmpmKC-z7NF",
    "outputId": "80f7cbab-c848-44c4-89ea-5cd369398d89"
   },
   "execution_count": 1,
   "outputs": [
    {
     "output_type": "stream",
     "name": "stdout",
     "text": [
      "Collecting pulp\n",
      "  Downloading PuLP-2.8.0-py3-none-any.whl (17.7 MB)\n",
      "\u001B[2K     \u001B[90m━━━━━━━━━━━━━━━━━━━━━━━━━━━━━━━━━━━━━━━━\u001B[0m \u001B[32m17.7/17.7 MB\u001B[0m \u001B[31m20.3 MB/s\u001B[0m eta \u001B[36m0:00:00\u001B[0m\n",
      "\u001B[?25hInstalling collected packages: pulp\n",
      "Successfully installed pulp-2.8.0\n",
      "Collecting pycebox\n",
      "  Downloading pycebox-0.0.1.tar.gz (4.5 kB)\n",
      "  Preparing metadata (setup.py) ... \u001B[?25l\u001B[?25hdone\n",
      "Requirement already satisfied: matplotlib in /usr/local/lib/python3.10/dist-packages (from pycebox) (3.7.1)\n",
      "Requirement already satisfied: numpy in /usr/local/lib/python3.10/dist-packages (from pycebox) (1.25.2)\n",
      "Requirement already satisfied: pandas in /usr/local/lib/python3.10/dist-packages (from pycebox) (2.0.3)\n",
      "Requirement already satisfied: six in /usr/local/lib/python3.10/dist-packages (from pycebox) (1.16.0)\n",
      "Requirement already satisfied: contourpy>=1.0.1 in /usr/local/lib/python3.10/dist-packages (from matplotlib->pycebox) (1.2.1)\n",
      "Requirement already satisfied: cycler>=0.10 in /usr/local/lib/python3.10/dist-packages (from matplotlib->pycebox) (0.12.1)\n",
      "Requirement already satisfied: fonttools>=4.22.0 in /usr/local/lib/python3.10/dist-packages (from matplotlib->pycebox) (4.51.0)\n",
      "Requirement already satisfied: kiwisolver>=1.0.1 in /usr/local/lib/python3.10/dist-packages (from matplotlib->pycebox) (1.4.5)\n",
      "Requirement already satisfied: packaging>=20.0 in /usr/local/lib/python3.10/dist-packages (from matplotlib->pycebox) (24.0)\n",
      "Requirement already satisfied: pillow>=6.2.0 in /usr/local/lib/python3.10/dist-packages (from matplotlib->pycebox) (9.4.0)\n",
      "Requirement already satisfied: pyparsing>=2.3.1 in /usr/local/lib/python3.10/dist-packages (from matplotlib->pycebox) (3.1.2)\n",
      "Requirement already satisfied: python-dateutil>=2.7 in /usr/local/lib/python3.10/dist-packages (from matplotlib->pycebox) (2.8.2)\n",
      "Requirement already satisfied: pytz>=2020.1 in /usr/local/lib/python3.10/dist-packages (from pandas->pycebox) (2023.4)\n",
      "Requirement already satisfied: tzdata>=2022.1 in /usr/local/lib/python3.10/dist-packages (from pandas->pycebox) (2024.1)\n",
      "Building wheels for collected packages: pycebox\n",
      "  Building wheel for pycebox (setup.py) ... \u001B[?25l\u001B[?25hdone\n",
      "  Created wheel for pycebox: filename=pycebox-0.0.1-py3-none-any.whl size=3624 sha256=b38a1916529953c9cf98053aa475af7a9603f7513ca284ae49f1c66eaa392772\n",
      "  Stored in directory: /root/.cache/pip/wheels/af/57/4b/0d7bdd5b5ee35d225b01da15c62ed0ec0af10073f24a4a03ce\n",
      "Successfully built pycebox\n",
      "Installing collected packages: pycebox\n",
      "Successfully installed pycebox-0.0.1\n"
     ]
    }
   ]
  },
  {
   "cell_type": "code",
   "source": [
    "import pandas as pd\n",
    "import numpy as np\n",
    "from sklearn.model_selection import train_test_split\n",
    "from imblearn.over_sampling import RandomOverSampler\n",
    "from sklearn.ensemble import RandomForestClassifier\n",
    "from sklearn.metrics import confusion_matrix, classification_report\n",
    "from sklearn.inspection import permutation_importance\n",
    "import matplotlib.pyplot as plt\n",
    "import warnings\n",
    "warnings.simplefilter(action='ignore', category=FutureWarning)\n",
    "from pycebox.ice import ice, ice_plot"
   ],
   "metadata": {
    "id": "qjiMm6XivpGh"
   },
   "execution_count": 2,
   "outputs": []
  },
  {
   "cell_type": "code",
   "source": [
    "df = pd.read_csv('/content/sample_data/california_housing_train.csv')\n",
    "df.head()"
   ],
   "metadata": {
    "colab": {
     "base_uri": "https://localhost:8080/",
     "height": 206
    },
    "id": "TIBAj9_ivDJz",
    "outputId": "98c3b10d-b82c-4c5f-92a5-46397d2484d2"
   },
   "execution_count": 3,
   "outputs": [
    {
     "output_type": "execute_result",
     "data": {
      "text/plain": [
       "   longitude  latitude  housing_median_age  total_rooms  total_bedrooms  \\\n",
       "0    -114.31     34.19                15.0       5612.0          1283.0   \n",
       "1    -114.47     34.40                19.0       7650.0          1901.0   \n",
       "2    -114.56     33.69                17.0        720.0           174.0   \n",
       "3    -114.57     33.64                14.0       1501.0           337.0   \n",
       "4    -114.57     33.57                20.0       1454.0           326.0   \n",
       "\n",
       "   population  households  median_income  median_house_value  \n",
       "0      1015.0       472.0         1.4936             66900.0  \n",
       "1      1129.0       463.0         1.8200             80100.0  \n",
       "2       333.0       117.0         1.6509             85700.0  \n",
       "3       515.0       226.0         3.1917             73400.0  \n",
       "4       624.0       262.0         1.9250             65500.0  "
      ],
      "text/html": [
       "\n",
       "  <div id=\"df-b46560a4-03b1-4734-8f5a-a68fac093fcf\" class=\"colab-df-container\">\n",
       "    <div>\n",
       "<style scoped>\n",
       "    .dataframe tbody tr th:only-of-type {\n",
       "        vertical-align: middle;\n",
       "    }\n",
       "\n",
       "    .dataframe tbody tr th {\n",
       "        vertical-align: top;\n",
       "    }\n",
       "\n",
       "    .dataframe thead th {\n",
       "        text-align: right;\n",
       "    }\n",
       "</style>\n",
       "<table border=\"1\" class=\"dataframe\">\n",
       "  <thead>\n",
       "    <tr style=\"text-align: right;\">\n",
       "      <th></th>\n",
       "      <th>longitude</th>\n",
       "      <th>latitude</th>\n",
       "      <th>housing_median_age</th>\n",
       "      <th>total_rooms</th>\n",
       "      <th>total_bedrooms</th>\n",
       "      <th>population</th>\n",
       "      <th>households</th>\n",
       "      <th>median_income</th>\n",
       "      <th>median_house_value</th>\n",
       "    </tr>\n",
       "  </thead>\n",
       "  <tbody>\n",
       "    <tr>\n",
       "      <th>0</th>\n",
       "      <td>-114.31</td>\n",
       "      <td>34.19</td>\n",
       "      <td>15.0</td>\n",
       "      <td>5612.0</td>\n",
       "      <td>1283.0</td>\n",
       "      <td>1015.0</td>\n",
       "      <td>472.0</td>\n",
       "      <td>1.4936</td>\n",
       "      <td>66900.0</td>\n",
       "    </tr>\n",
       "    <tr>\n",
       "      <th>1</th>\n",
       "      <td>-114.47</td>\n",
       "      <td>34.40</td>\n",
       "      <td>19.0</td>\n",
       "      <td>7650.0</td>\n",
       "      <td>1901.0</td>\n",
       "      <td>1129.0</td>\n",
       "      <td>463.0</td>\n",
       "      <td>1.8200</td>\n",
       "      <td>80100.0</td>\n",
       "    </tr>\n",
       "    <tr>\n",
       "      <th>2</th>\n",
       "      <td>-114.56</td>\n",
       "      <td>33.69</td>\n",
       "      <td>17.0</td>\n",
       "      <td>720.0</td>\n",
       "      <td>174.0</td>\n",
       "      <td>333.0</td>\n",
       "      <td>117.0</td>\n",
       "      <td>1.6509</td>\n",
       "      <td>85700.0</td>\n",
       "    </tr>\n",
       "    <tr>\n",
       "      <th>3</th>\n",
       "      <td>-114.57</td>\n",
       "      <td>33.64</td>\n",
       "      <td>14.0</td>\n",
       "      <td>1501.0</td>\n",
       "      <td>337.0</td>\n",
       "      <td>515.0</td>\n",
       "      <td>226.0</td>\n",
       "      <td>3.1917</td>\n",
       "      <td>73400.0</td>\n",
       "    </tr>\n",
       "    <tr>\n",
       "      <th>4</th>\n",
       "      <td>-114.57</td>\n",
       "      <td>33.57</td>\n",
       "      <td>20.0</td>\n",
       "      <td>1454.0</td>\n",
       "      <td>326.0</td>\n",
       "      <td>624.0</td>\n",
       "      <td>262.0</td>\n",
       "      <td>1.9250</td>\n",
       "      <td>65500.0</td>\n",
       "    </tr>\n",
       "  </tbody>\n",
       "</table>\n",
       "</div>\n",
       "    <div class=\"colab-df-buttons\">\n",
       "\n",
       "  <div class=\"colab-df-container\">\n",
       "    <button class=\"colab-df-convert\" onclick=\"convertToInteractive('df-b46560a4-03b1-4734-8f5a-a68fac093fcf')\"\n",
       "            title=\"Convert this dataframe to an interactive table.\"\n",
       "            style=\"display:none;\">\n",
       "\n",
       "  <svg xmlns=\"http://www.w3.org/2000/svg\" height=\"24px\" viewBox=\"0 -960 960 960\">\n",
       "    <path d=\"M120-120v-720h720v720H120Zm60-500h600v-160H180v160Zm220 220h160v-160H400v160Zm0 220h160v-160H400v160ZM180-400h160v-160H180v160Zm440 0h160v-160H620v160ZM180-180h160v-160H180v160Zm440 0h160v-160H620v160Z\"/>\n",
       "  </svg>\n",
       "    </button>\n",
       "\n",
       "  <style>\n",
       "    .colab-df-container {\n",
       "      display:flex;\n",
       "      gap: 12px;\n",
       "    }\n",
       "\n",
       "    .colab-df-convert {\n",
       "      background-color: #E8F0FE;\n",
       "      border: none;\n",
       "      border-radius: 50%;\n",
       "      cursor: pointer;\n",
       "      display: none;\n",
       "      fill: #1967D2;\n",
       "      height: 32px;\n",
       "      padding: 0 0 0 0;\n",
       "      width: 32px;\n",
       "    }\n",
       "\n",
       "    .colab-df-convert:hover {\n",
       "      background-color: #E2EBFA;\n",
       "      box-shadow: 0px 1px 2px rgba(60, 64, 67, 0.3), 0px 1px 3px 1px rgba(60, 64, 67, 0.15);\n",
       "      fill: #174EA6;\n",
       "    }\n",
       "\n",
       "    .colab-df-buttons div {\n",
       "      margin-bottom: 4px;\n",
       "    }\n",
       "\n",
       "    [theme=dark] .colab-df-convert {\n",
       "      background-color: #3B4455;\n",
       "      fill: #D2E3FC;\n",
       "    }\n",
       "\n",
       "    [theme=dark] .colab-df-convert:hover {\n",
       "      background-color: #434B5C;\n",
       "      box-shadow: 0px 1px 3px 1px rgba(0, 0, 0, 0.15);\n",
       "      filter: drop-shadow(0px 1px 2px rgba(0, 0, 0, 0.3));\n",
       "      fill: #FFFFFF;\n",
       "    }\n",
       "  </style>\n",
       "\n",
       "    <script>\n",
       "      const buttonEl =\n",
       "        document.querySelector('#df-b46560a4-03b1-4734-8f5a-a68fac093fcf button.colab-df-convert');\n",
       "      buttonEl.style.display =\n",
       "        google.colab.kernel.accessAllowed ? 'block' : 'none';\n",
       "\n",
       "      async function convertToInteractive(key) {\n",
       "        const element = document.querySelector('#df-b46560a4-03b1-4734-8f5a-a68fac093fcf');\n",
       "        const dataTable =\n",
       "          await google.colab.kernel.invokeFunction('convertToInteractive',\n",
       "                                                    [key], {});\n",
       "        if (!dataTable) return;\n",
       "\n",
       "        const docLinkHtml = 'Like what you see? Visit the ' +\n",
       "          '<a target=\"_blank\" href=https://colab.research.google.com/notebooks/data_table.ipynb>data table notebook</a>'\n",
       "          + ' to learn more about interactive tables.';\n",
       "        element.innerHTML = '';\n",
       "        dataTable['output_type'] = 'display_data';\n",
       "        await google.colab.output.renderOutput(dataTable, element);\n",
       "        const docLink = document.createElement('div');\n",
       "        docLink.innerHTML = docLinkHtml;\n",
       "        element.appendChild(docLink);\n",
       "      }\n",
       "    </script>\n",
       "  </div>\n",
       "\n",
       "\n",
       "<div id=\"df-ab1c9e06-9c77-463a-889e-65c9d7fc8f13\">\n",
       "  <button class=\"colab-df-quickchart\" onclick=\"quickchart('df-ab1c9e06-9c77-463a-889e-65c9d7fc8f13')\"\n",
       "            title=\"Suggest charts\"\n",
       "            style=\"display:none;\">\n",
       "\n",
       "<svg xmlns=\"http://www.w3.org/2000/svg\" height=\"24px\"viewBox=\"0 0 24 24\"\n",
       "     width=\"24px\">\n",
       "    <g>\n",
       "        <path d=\"M19 3H5c-1.1 0-2 .9-2 2v14c0 1.1.9 2 2 2h14c1.1 0 2-.9 2-2V5c0-1.1-.9-2-2-2zM9 17H7v-7h2v7zm4 0h-2V7h2v10zm4 0h-2v-4h2v4z\"/>\n",
       "    </g>\n",
       "</svg>\n",
       "  </button>\n",
       "\n",
       "<style>\n",
       "  .colab-df-quickchart {\n",
       "      --bg-color: #E8F0FE;\n",
       "      --fill-color: #1967D2;\n",
       "      --hover-bg-color: #E2EBFA;\n",
       "      --hover-fill-color: #174EA6;\n",
       "      --disabled-fill-color: #AAA;\n",
       "      --disabled-bg-color: #DDD;\n",
       "  }\n",
       "\n",
       "  [theme=dark] .colab-df-quickchart {\n",
       "      --bg-color: #3B4455;\n",
       "      --fill-color: #D2E3FC;\n",
       "      --hover-bg-color: #434B5C;\n",
       "      --hover-fill-color: #FFFFFF;\n",
       "      --disabled-bg-color: #3B4455;\n",
       "      --disabled-fill-color: #666;\n",
       "  }\n",
       "\n",
       "  .colab-df-quickchart {\n",
       "    background-color: var(--bg-color);\n",
       "    border: none;\n",
       "    border-radius: 50%;\n",
       "    cursor: pointer;\n",
       "    display: none;\n",
       "    fill: var(--fill-color);\n",
       "    height: 32px;\n",
       "    padding: 0;\n",
       "    width: 32px;\n",
       "  }\n",
       "\n",
       "  .colab-df-quickchart:hover {\n",
       "    background-color: var(--hover-bg-color);\n",
       "    box-shadow: 0 1px 2px rgba(60, 64, 67, 0.3), 0 1px 3px 1px rgba(60, 64, 67, 0.15);\n",
       "    fill: var(--button-hover-fill-color);\n",
       "  }\n",
       "\n",
       "  .colab-df-quickchart-complete:disabled,\n",
       "  .colab-df-quickchart-complete:disabled:hover {\n",
       "    background-color: var(--disabled-bg-color);\n",
       "    fill: var(--disabled-fill-color);\n",
       "    box-shadow: none;\n",
       "  }\n",
       "\n",
       "  .colab-df-spinner {\n",
       "    border: 2px solid var(--fill-color);\n",
       "    border-color: transparent;\n",
       "    border-bottom-color: var(--fill-color);\n",
       "    animation:\n",
       "      spin 1s steps(1) infinite;\n",
       "  }\n",
       "\n",
       "  @keyframes spin {\n",
       "    0% {\n",
       "      border-color: transparent;\n",
       "      border-bottom-color: var(--fill-color);\n",
       "      border-left-color: var(--fill-color);\n",
       "    }\n",
       "    20% {\n",
       "      border-color: transparent;\n",
       "      border-left-color: var(--fill-color);\n",
       "      border-top-color: var(--fill-color);\n",
       "    }\n",
       "    30% {\n",
       "      border-color: transparent;\n",
       "      border-left-color: var(--fill-color);\n",
       "      border-top-color: var(--fill-color);\n",
       "      border-right-color: var(--fill-color);\n",
       "    }\n",
       "    40% {\n",
       "      border-color: transparent;\n",
       "      border-right-color: var(--fill-color);\n",
       "      border-top-color: var(--fill-color);\n",
       "    }\n",
       "    60% {\n",
       "      border-color: transparent;\n",
       "      border-right-color: var(--fill-color);\n",
       "    }\n",
       "    80% {\n",
       "      border-color: transparent;\n",
       "      border-right-color: var(--fill-color);\n",
       "      border-bottom-color: var(--fill-color);\n",
       "    }\n",
       "    90% {\n",
       "      border-color: transparent;\n",
       "      border-bottom-color: var(--fill-color);\n",
       "    }\n",
       "  }\n",
       "</style>\n",
       "\n",
       "  <script>\n",
       "    async function quickchart(key) {\n",
       "      const quickchartButtonEl =\n",
       "        document.querySelector('#' + key + ' button');\n",
       "      quickchartButtonEl.disabled = true;  // To prevent multiple clicks.\n",
       "      quickchartButtonEl.classList.add('colab-df-spinner');\n",
       "      try {\n",
       "        const charts = await google.colab.kernel.invokeFunction(\n",
       "            'suggestCharts', [key], {});\n",
       "      } catch (error) {\n",
       "        console.error('Error during call to suggestCharts:', error);\n",
       "      }\n",
       "      quickchartButtonEl.classList.remove('colab-df-spinner');\n",
       "      quickchartButtonEl.classList.add('colab-df-quickchart-complete');\n",
       "    }\n",
       "    (() => {\n",
       "      let quickchartButtonEl =\n",
       "        document.querySelector('#df-ab1c9e06-9c77-463a-889e-65c9d7fc8f13 button');\n",
       "      quickchartButtonEl.style.display =\n",
       "        google.colab.kernel.accessAllowed ? 'block' : 'none';\n",
       "    })();\n",
       "  </script>\n",
       "</div>\n",
       "    </div>\n",
       "  </div>\n"
      ],
      "application/vnd.google.colaboratory.intrinsic+json": {
       "type": "dataframe",
       "variable_name": "df",
       "summary": "{\n  \"name\": \"df\",\n  \"rows\": 17000,\n  \"fields\": [\n    {\n      \"column\": \"longitude\",\n      \"properties\": {\n        \"dtype\": \"number\",\n        \"std\": 2.0051664084261778,\n        \"min\": -124.35,\n        \"max\": -114.31,\n        \"num_unique_values\": 827,\n        \"samples\": [\n          -117.56,\n          -123.32,\n          -118.26\n        ],\n        \"semantic_type\": \"\",\n        \"description\": \"\"\n      }\n    },\n    {\n      \"column\": \"latitude\",\n      \"properties\": {\n        \"dtype\": \"number\",\n        \"std\": 2.1373397946570836,\n        \"min\": 32.54,\n        \"max\": 41.95,\n        \"num_unique_values\": 840,\n        \"samples\": [\n          38.44,\n          40.79,\n          32.69\n        ],\n        \"semantic_type\": \"\",\n        \"description\": \"\"\n      }\n    },\n    {\n      \"column\": \"housing_median_age\",\n      \"properties\": {\n        \"dtype\": \"number\",\n        \"std\": 12.586936981660399,\n        \"min\": 1.0,\n        \"max\": 52.0,\n        \"num_unique_values\": 52,\n        \"samples\": [\n          23.0,\n          52.0,\n          47.0\n        ],\n        \"semantic_type\": \"\",\n        \"description\": \"\"\n      }\n    },\n    {\n      \"column\": \"total_rooms\",\n      \"properties\": {\n        \"dtype\": \"number\",\n        \"std\": 2179.947071452767,\n        \"min\": 2.0,\n        \"max\": 37937.0,\n        \"num_unique_values\": 5533,\n        \"samples\": [\n          3564.0,\n          6955.0,\n          5451.0\n        ],\n        \"semantic_type\": \"\",\n        \"description\": \"\"\n      }\n    },\n    {\n      \"column\": \"total_bedrooms\",\n      \"properties\": {\n        \"dtype\": \"number\",\n        \"std\": 421.4994515798646,\n        \"min\": 1.0,\n        \"max\": 6445.0,\n        \"num_unique_values\": 1848,\n        \"samples\": [\n          729.0,\n          719.0,\n          2075.0\n        ],\n        \"semantic_type\": \"\",\n        \"description\": \"\"\n      }\n    },\n    {\n      \"column\": \"population\",\n      \"properties\": {\n        \"dtype\": \"number\",\n        \"std\": 1147.8529591595266,\n        \"min\": 3.0,\n        \"max\": 35682.0,\n        \"num_unique_values\": 3683,\n        \"samples\": [\n          249.0,\n          1735.0,\n          235.0\n        ],\n        \"semantic_type\": \"\",\n        \"description\": \"\"\n      }\n    },\n    {\n      \"column\": \"households\",\n      \"properties\": {\n        \"dtype\": \"number\",\n        \"std\": 384.5208408559009,\n        \"min\": 1.0,\n        \"max\": 6082.0,\n        \"num_unique_values\": 1740,\n        \"samples\": [\n          390.0,\n          1089.0,\n          1351.0\n        ],\n        \"semantic_type\": \"\",\n        \"description\": \"\"\n      }\n    },\n    {\n      \"column\": \"median_income\",\n      \"properties\": {\n        \"dtype\": \"number\",\n        \"std\": 1.9081565183791036,\n        \"min\": 0.4999,\n        \"max\": 15.0001,\n        \"num_unique_values\": 11175,\n        \"samples\": [\n          7.2655,\n          5.6293,\n          4.2262\n        ],\n        \"semantic_type\": \"\",\n        \"description\": \"\"\n      }\n    },\n    {\n      \"column\": \"median_house_value\",\n      \"properties\": {\n        \"dtype\": \"number\",\n        \"std\": 115983.76438720885,\n        \"min\": 14999.0,\n        \"max\": 500001.0,\n        \"num_unique_values\": 3694,\n        \"samples\": [\n          162300.0,\n          346800.0,\n          116700.0\n        ],\n        \"semantic_type\": \"\",\n        \"description\": \"\"\n      }\n    }\n  ]\n}"
      }
     },
     "metadata": {},
     "execution_count": 3
    }
   ]
  },
  {
   "cell_type": "markdown",
   "source": [
    "And we will recode the target variable to a classification problem."
   ],
   "metadata": {
    "id": "MSklVwv794tE"
   }
  },
  {
   "cell_type": "code",
   "source": [
    "# by using 75th percentile, we will have nice imbalanced data!\n",
    "df['median_house_value'] = np.where(df['median_house_value'] > np.percentile(df['median_house_value'], q=75), 1, 0)\n",
    "df['median_house_value'].value_counts()"
   ],
   "metadata": {
    "id": "LvT61xo097ST",
    "colab": {
     "base_uri": "https://localhost:8080/"
    },
    "outputId": "d6e5fc0a-65a7-4f54-8618-a485c177cdce"
   },
   "execution_count": 4,
   "outputs": [
    {
     "output_type": "execute_result",
     "data": {
      "text/plain": [
       "median_house_value\n",
       "0    12753\n",
       "1     4247\n",
       "Name: count, dtype: int64"
      ]
     },
     "metadata": {},
     "execution_count": 4
    }
   ]
  },
  {
   "cell_type": "markdown",
   "source": [
    "# Splitting the dataframe"
   ],
   "metadata": {
    "id": "wAAchx76VLIq"
   }
  },
  {
   "cell_type": "code",
   "source": [
    "# Storing the target variable in y and independent variables in X\n",
    "X = df.drop('median_house_value', axis=1)\n",
    "y = df['median_house_value']\n",
    "\n",
    "# Split the dataframe into training and testing with 80-20 split and student ID as random_state\n",
    "X_train, X_test, y_train, y_test = train_test_split(X, y, test_size=0.2, random_state=3133252)\n",
    "print(f'Count of X_Train: \\n{X_train.count()}')\n",
    "print(f'Count of X_Test: \\n{X_test.count()}')"
   ],
   "metadata": {
    "id": "6Zp3Z4IRAbvi",
    "colab": {
     "base_uri": "https://localhost:8080/"
    },
    "outputId": "8afa5810-a1b3-488a-a7f5-031caf5cb374"
   },
   "execution_count": 5,
   "outputs": [
    {
     "output_type": "stream",
     "name": "stdout",
     "text": [
      "Count of X_Train: \n",
      "longitude             13600\n",
      "latitude              13600\n",
      "housing_median_age    13600\n",
      "total_rooms           13600\n",
      "total_bedrooms        13600\n",
      "population            13600\n",
      "households            13600\n",
      "median_income         13600\n",
      "dtype: int64\n",
      "Count of X_Test: \n",
      "longitude             3400\n",
      "latitude              3400\n",
      "housing_median_age    3400\n",
      "total_rooms           3400\n",
      "total_bedrooms        3400\n",
      "population            3400\n",
      "households            3400\n",
      "median_income         3400\n",
      "dtype: int64\n"
     ]
    }
   ]
  },
  {
   "cell_type": "markdown",
   "source": [
    "# Sampling"
   ],
   "metadata": {
    "id": "P847REMT_l24"
   }
  },
  {
   "cell_type": "code",
   "source": [
    "# Initialize the RandomOverSampler\n",
    "ros = RandomOverSampler(random_state=3133252)\n",
    "\n",
    "# Apply oversampling only on the training data\n",
    "X_train_resampled, y_train_resampled = ros.fit_resample(X_train, y_train)\n",
    "\n",
    "# Display the count of each class before and after oversampling\n",
    "print(f\"Class distribution before oversampling in train data:{y_train.value_counts()}\")\n",
    "print(f\"Class distribution after oversampling in train data: {pd.Series(y_train_resampled).value_counts()}\")"
   ],
   "metadata": {
    "id": "iACWT_64_oHm",
    "colab": {
     "base_uri": "https://localhost:8080/"
    },
    "outputId": "d909d819-2c80-4d9b-9db2-688cae7a514f"
   },
   "execution_count": 6,
   "outputs": [
    {
     "output_type": "stream",
     "name": "stdout",
     "text": [
      "Class distribution before oversampling in train data:median_house_value\n",
      "0    10197\n",
      "1     3403\n",
      "Name: count, dtype: int64\n",
      "Class distribution after oversampling in train data: median_house_value\n",
      "0    10197\n",
      "1    10197\n",
      "Name: count, dtype: int64\n"
     ]
    }
   ]
  },
  {
   "cell_type": "markdown",
   "source": [
    "* As we can see in the before oversampling count, the data was imbalanced. The class 0 had almost 3 times number of rows as compared to class 1.\n",
    "* RandomOverSampling balanced the data by increasing the sample size of class 1 to match the sample size of class 0, improving the overall performance of the model."
   ],
   "metadata": {
    "id": "gd9y_esDCmM9"
   }
  },
  {
   "cell_type": "markdown",
   "source": [
    "# Model and Metrics"
   ],
   "metadata": {
    "id": "xgm__s2pAXW5"
   }
  },
  {
   "cell_type": "code",
   "source": [
    "# use any model you want - fit on train, predict on test!\n",
    "# you should print confusion matrix and classification report\n",
    "# for train and test partitions\n",
    "\n",
    "# Initialize the RandomForestClassifier\n",
    "rfclass = RandomForestClassifier(random_state=3133252)\n",
    "\n",
    "# Train the model on the resampled training data\n",
    "rfclass.fit(X_train_resampled, y_train_resampled)\n",
    "\n",
    "# Make predictions on the train and test data\n",
    "y_train_pred = rfclass.predict(X_train_resampled)\n",
    "y_test_pred = rfclass.predict(X_test)\n",
    "\n",
    "# Calculate evaluation metrics for train data\n",
    "train_conf_matrix = confusion_matrix(y_train_resampled, y_train_pred)\n",
    "train_class_report = classification_report(y_train_resampled, y_train_pred)\n",
    "\n",
    "# Calculate evaluation metrics for test data\n",
    "test_conf_matrix = confusion_matrix(y_test, y_test_pred)\n",
    "test_class_report = classification_report(y_test, y_test_pred)\n",
    "\n",
    "# Train Confusion Matrix and Classification Report\n",
    "print(f\"Train Confusion Matrix: \\n{train_conf_matrix}\")\n",
    "print(f\"\\nTrain Classification Report: \\n{train_class_report}\")\n",
    "\n",
    "# Test Confusion Matrix and Classification Report\n",
    "print(f\"Test Confusion Matrix: \\n{test_conf_matrix}\")\n",
    "print(f\"\\nTest Classification Report: \\n{test_class_report}\")"
   ],
   "metadata": {
    "id": "RMwCQ7W6Aees",
    "colab": {
     "base_uri": "https://localhost:8080/"
    },
    "outputId": "9bd2aeb9-6535-408b-d0cb-9f50d15b72f5"
   },
   "execution_count": 7,
   "outputs": [
    {
     "output_type": "stream",
     "name": "stdout",
     "text": [
      "Train Confusion Matrix: \n",
      "[[10197     0]\n",
      " [    0 10197]]\n",
      "\n",
      "Train Classification Report: \n",
      "              precision    recall  f1-score   support\n",
      "\n",
      "           0       1.00      1.00      1.00     10197\n",
      "           1       1.00      1.00      1.00     10197\n",
      "\n",
      "    accuracy                           1.00     20394\n",
      "   macro avg       1.00      1.00      1.00     20394\n",
      "weighted avg       1.00      1.00      1.00     20394\n",
      "\n",
      "Test Confusion Matrix: \n",
      "[[2426  130]\n",
      " [ 188  656]]\n",
      "\n",
      "Test Classification Report: \n",
      "              precision    recall  f1-score   support\n",
      "\n",
      "           0       0.93      0.95      0.94      2556\n",
      "           1       0.83      0.78      0.80       844\n",
      "\n",
      "    accuracy                           0.91      3400\n",
      "   macro avg       0.88      0.86      0.87      3400\n",
      "weighted avg       0.90      0.91      0.91      3400\n",
      "\n"
     ]
    }
   ]
  },
  {
   "cell_type": "markdown",
   "source": [
    "# Interpretability"
   ],
   "metadata": {
    "id": "j99ZHu-vAqVK"
   }
  },
  {
   "cell_type": "markdown",
   "source": [
    "## Permutation Importance"
   ],
   "metadata": {
    "id": "xN63ERDfAszH"
   }
  },
  {
   "cell_type": "code",
   "source": [
    "# permutation importance is on X_test\n",
    "\n",
    "# Initialize the RandomForestClassifier\n",
    "rfclass = RandomForestClassifier(random_state=3133252)\n",
    "\n",
    "# Train the model on the resampled training data\n",
    "model = rfclass.fit(X_train_resampled, y_train_resampled)\n",
    "\n",
    "# Compute permutation importance with 15 repeats\n",
    "result = permutation_importance(rfclass, X_test, y_test, n_repeats=15, random_state=3133252)\n",
    "perm_sorted_idx = result.importances_mean.argsort()[-3:]\n",
    "\n",
    "# Plot the top 3 features as a boxplot\n",
    "fig, ax1 = plt.subplots(1, 1, figsize=(6, 4))\n",
    "ax1.boxplot(result.importances[perm_sorted_idx].T, vert=False,\n",
    "            labels=X.columns[perm_sorted_idx])\n",
    "fig.suptitle('Top 3 Features by Permutation Importance (RFC)', y=1.05)\n",
    "fig.tight_layout()\n",
    "plt.show()"
   ],
   "metadata": {
    "id": "4TKUEyYhAsNz",
    "colab": {
     "base_uri": "https://localhost:8080/",
     "height": 442
    },
    "outputId": "1b457547-5a25-40e3-8345-69857c838375"
   },
   "execution_count": 8,
   "outputs": [
    {
     "output_type": "display_data",
     "data": {
      "text/plain": [
       "<Figure size 600x400 with 1 Axes>"
      ],
      "image/png": "[encoded data removed]"
     },
     "metadata": {}
    }
   ]
  },
  {
   "cell_type": "markdown",
   "source": [
    "## Partial Dependence"
   ],
   "metadata": {
    "id": "53mNce4iAwIX"
   }
  },
  {
   "cell_type": "code",
   "source": [
    "# partial dependence is on X_train\n",
    "\n",
    "\n",
    "# Assuming X_train_resampled is your DataFrame and 'median_income' is the feature of interest\n",
    "tmpdf = ice(data=X_train_resampled, column='median_income', predict=rfclass.predict, num_grid_points=10)\n",
    "\n",
    "# Plot ICE for 'Median Income'\n",
    "ice_plot(tmpdf, c='dimgray', linewidth=0.3,\n",
    "                  plot_pdp=True,\n",
    "         pdp_kwargs={'linewidth': 3, 'color':'red'})\n",
    "plt.title('PDP: Median Income')\n",
    "plt.ylabel('Predicted Median House Value')\n",
    "plt.xlabel('median_income');\n",
    "plt.show()"
   ],
   "metadata": {
    "id": "IsxgzjxnD5ZI",
    "colab": {
     "base_uri": "https://localhost:8080/",
     "height": 507
    },
    "outputId": "6d007e48-7faa-4af6-bffb-d64ff6d5ad13"
   },
   "execution_count": 9,
   "outputs": [
    {
     "output_type": "stream",
     "name": "stderr",
     "text": [
      "/usr/local/lib/python3.10/dist-packages/sklearn/base.py:439: UserWarning: X does not have valid feature names, but RandomForestClassifier was fitted with feature names\n",
      "  warnings.warn(\n"
     ]
    },
    {
     "output_type": "display_data",
     "data": {
      "text/plain": [
       "<Figure size 640x480 with 1 Axes>"
      ],
      "image/png": "[encoded data removed]"
     },
     "metadata": {}
    }
   ]
  },
  {
   "cell_type": "code",
   "source": [
    "# Plot ICE for 'Longitude'\n",
    "tmpdf = ice(data=X_train_resampled, column='longitude', predict=rfclass.predict, num_grid_points=10)\n",
    "ice_plot(tmpdf, c='dimgray', linewidth=0.3,\n",
    "                  plot_pdp=True,\n",
    "         pdp_kwargs={'linewidth': 3, 'color':'red'})\n",
    "plt.title('PDP: Longitude')\n",
    "plt.ylabel('Predicted Median House Value')\n",
    "plt.xlabel('Longitude');\n",
    "plt.show()"
   ],
   "metadata": {
    "colab": {
     "base_uri": "https://localhost:8080/",
     "height": 507
    },
    "id": "OQG-1WK-PgU2",
    "outputId": "4c54d3ea-88aa-4d60-cb02-21a6be0810d3"
   },
   "execution_count": 10,
   "outputs": [
    {
     "output_type": "stream",
     "name": "stderr",
     "text": [
      "/usr/local/lib/python3.10/dist-packages/sklearn/base.py:439: UserWarning: X does not have valid feature names, but RandomForestClassifier was fitted with feature names\n",
      "  warnings.warn(\n"
     ]
    },
    {
     "output_type": "display_data",
     "data": {
      "text/plain": [
       "<Figure size 640x480 with 1 Axes>"
      ],
      "image/png": "[encoded data removed]"
     },
     "metadata": {}
    }
   ]
  },
  {
   "cell_type": "code",
   "source": [
    "# Plot ICE for 'Latitude'\n",
    "tmpdf = ice(data=X_train_resampled, column='latitude', predict=rfclass.predict, num_grid_points=10)\n",
    "ice_plot(tmpdf, c='dimgray', linewidth=0.3,\n",
    "                  plot_pdp=True,\n",
    "         pdp_kwargs={'linewidth': 3, 'color':'red'})\n",
    "plt.title('PDP: Latitude')\n",
    "plt.ylabel('Predicted Median House Value')\n",
    "plt.xlabel('Latitude');\n",
    "plt.show()"
   ],
   "metadata": {
    "colab": {
     "base_uri": "https://localhost:8080/",
     "height": 507
    },
    "id": "HdnMI6iMPf4k",
    "outputId": "05b05958-ce59-46c1-ea90-39824cf0fa08"
   },
   "execution_count": 11,
   "outputs": [
    {
     "output_type": "stream",
     "name": "stderr",
     "text": [
      "/usr/local/lib/python3.10/dist-packages/sklearn/base.py:439: UserWarning: X does not have valid feature names, but RandomForestClassifier was fitted with feature names\n",
      "  warnings.warn(\n"
     ]
    },
    {
     "output_type": "display_data",
     "data": {
      "text/plain": [
       "<Figure size 640x480 with 1 Axes>"
      ],
      "image/png": "[encoded data removed]"
     },
     "metadata": {}
    }
   ]
  },
  {
   "cell_type": "markdown",
   "source": [
    "# Conclusions"
   ],
   "metadata": {
    "id": "8l5c2RQvAygR"
   }
  },
  {
   "cell_type": "markdown",
   "source": [
    "* Oversampling balanced the dataset from class 0 and 1 being 10197 and 3403 respectively to 10197 and 10197 for both classes.\n",
    "* Train confusion matrix shows the perfect distribution where the model is able to capture all true positives and true negatives.\n",
    "* Test confusion matrix is able to capture maximum of the datapoints correctly. where it's able to capture 2426 True Positives and 656 True Negatives. Out of 3400, the confusion matrxi shows it's able to capture total of 3082 True negatives and true positives.\n",
    "* The classification report shows the test classification has the accuracy of 0.91.\n",
    "* According to the box-plot of Permutation Importance, Top 3 features for my Random Forest Classification model are median_income, latitude, and longitude, with median_income being the top feature and latitude and longitude being 2nd and 3rd respectively.\n",
    "* Partial Dependence Plot:\n",
    "  * **Median Income:** Median house value shows the upward trend with a huge spike which starts around 5 median_income with predicted median_house_value of 0.2 and it goes up till 0.9 at median_income of 7 and then it shows slight upward trend from there as well.\n",
    "  * **Longitude:** As the longitude is increasing, the predicted value is decreasing with a spike at around -119 to -118 and then sudden decrease from -118 onwards.\n",
    "  * **Latitude:** As the latitude is increasing, the predicted value is going down with sudden downward slope between 37-38 creating a step-wise structure in the plot."
   ],
   "metadata": {
    "id": "rFG1_RZgWRhg"
   }
  }
 ]
}
